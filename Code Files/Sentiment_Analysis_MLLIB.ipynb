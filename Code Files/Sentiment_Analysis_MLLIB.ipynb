{
  "nbformat": 4,
  "nbformat_minor": 0,
  "metadata": {
    "colab": {
      "name": "Sentiment_Analysis_MLLIB.ipynb",
      "provenance": [],
      "collapsed_sections": [],
      "toc_visible": true
    },
    "kernelspec": {
      "name": "python3",
      "display_name": "Python 3"
    },
    "language_info": {
      "name": "python"
    }
  },
  "cells": [
    {
      "cell_type": "markdown",
      "metadata": {
        "id": "E31cE42LyPpr"
      },
      "source": [
        "## **Packages to be installed during Runtime**"
      ]
    },
    {
      "cell_type": "code",
      "metadata": {
        "colab": {
          "base_uri": "https://localhost:8080/"
        },
        "id": "cENBJ0JC-o83",
        "outputId": "25cdb9f8-f178-4219-9e2a-c45307935024"
      },
      "source": [
        "pip install pyspark"
      ],
      "execution_count": null,
      "outputs": [
        {
          "output_type": "stream",
          "text": [
            "Collecting pyspark\n",
            "\u001b[?25l  Downloading https://files.pythonhosted.org/packages/45/b0/9d6860891ab14a39d4bddf80ba26ce51c2f9dc4805e5c6978ac0472c120a/pyspark-3.1.1.tar.gz (212.3MB)\n",
            "\u001b[K     |████████████████████████████████| 212.3MB 67kB/s \n",
            "\u001b[?25hCollecting py4j==0.10.9\n",
            "\u001b[?25l  Downloading https://files.pythonhosted.org/packages/9e/b6/6a4fb90cd235dc8e265a6a2067f2a2c99f0d91787f06aca4bcf7c23f3f80/py4j-0.10.9-py2.py3-none-any.whl (198kB)\n",
            "\u001b[K     |████████████████████████████████| 204kB 19.3MB/s \n",
            "\u001b[?25hBuilding wheels for collected packages: pyspark\n",
            "  Building wheel for pyspark (setup.py) ... \u001b[?25l\u001b[?25hdone\n",
            "  Created wheel for pyspark: filename=pyspark-3.1.1-py2.py3-none-any.whl size=212767604 sha256=2dc19f016d252508a9a0c93651e46d42fe33f11f05ee7efe0f0c19273febc163\n",
            "  Stored in directory: /root/.cache/pip/wheels/0b/90/c0/01de724414ef122bd05f056541fb6a0ecf47c7ca655f8b3c0f\n",
            "Successfully built pyspark\n",
            "Installing collected packages: py4j, pyspark\n",
            "Successfully installed py4j-0.10.9 pyspark-3.1.1\n"
          ],
          "name": "stdout"
        }
      ]
    },
    {
      "cell_type": "markdown",
      "metadata": {
        "id": "sTy_6vqwynww"
      },
      "source": [
        "## **Importing Necessary Libraries**"
      ]
    },
    {
      "cell_type": "code",
      "metadata": {
        "id": "etn3ztB0cxgl"
      },
      "source": [
        "#For the Spark Session\n",
        "from pyspark.sql import SparkSession\n",
        "from pyspark import SparkContext\n",
        "\n",
        "#For Data Manipulation\n",
        "from pyspark.mllib.regression import LabeledPoint\n",
        "from pyspark.ml import linalg as ml_linalg\n",
        "from pyspark.mllib.linalg import Vectors as MLLibVectors\n",
        "import pandas as pd\n",
        "import numpy as np\n",
        "\n",
        "#For NLP\n",
        "from pyspark.ml.feature import HashingTF,RegexTokenizer,StopWordsRemover\n",
        "from pyspark.mllib.classification import SVMWithSGD"
      ],
      "execution_count": null,
      "outputs": []
    },
    {
      "cell_type": "markdown",
      "metadata": {
        "id": "H55E2J1Z1Uv3"
      },
      "source": [
        "## **Creating a session and reading necessary files**"
      ]
    },
    {
      "cell_type": "code",
      "metadata": {
        "id": "Pd27f6ioc4yt",
        "colab": {
          "base_uri": "https://localhost:8080/"
        },
        "outputId": "f16d2b2f-ea9e-4d49-ffce-bf401bf7a977"
      },
      "source": [
        "sc = SparkContext();\n",
        "spark = SparkSession.builder.appName('Sentiment Analysis').getOrCreate()\n",
        "print(\"The default number of partitions are =\",sc.defaultParallelism)"
      ],
      "execution_count": null,
      "outputs": [
        {
          "output_type": "stream",
          "text": [
            "The default number of partitions are = 2\n"
          ],
          "name": "stdout"
        }
      ]
    },
    {
      "cell_type": "code",
      "metadata": {
        "id": "FW2Xtdhuc8U2"
      },
      "source": [
        "#Creating a Spark dataframe from train & test data\n",
        "train_df=spark.read.csv('train.csv',inferSchema=True,header=True)\n",
        "test_df=spark.read.csv('test.csv',inferSchema=True,header=True)"
      ],
      "execution_count": null,
      "outputs": []
    },
    {
      "cell_type": "code",
      "metadata": {
        "colab": {
          "base_uri": "https://localhost:8080/"
        },
        "id": "_P7r7k2r1HZk",
        "outputId": "1bedaabc-8dcf-41f4-e0c3-b84118e9f3ea"
      },
      "source": [
        "train_df.show(truncate=False)"
      ],
      "execution_count": null,
      "outputs": [
        {
          "output_type": "stream",
          "text": [
            "+------+---------------------------------------------------------------------------------------------------------------------------------------------------------------------------------------------------------------------------------------------------------------------------------------------------------------------------------------------------------------------------------------------------------------------------------------------------------------------------------------------------------------------------------------------------------------------------------------------------------------------------------------------------------------------------------------------------------------------------------------------------------------------------------------------------------------------------------------------------------+\n",
            "|Labels|Sentences                                                                                                                                                                                                                                                                                                                                                                                                                                                                                                                                                                                                                                                                                                                                                                                                                                                |\n",
            "+------+---------------------------------------------------------------------------------------------------------------------------------------------------------------------------------------------------------------------------------------------------------------------------------------------------------------------------------------------------------------------------------------------------------------------------------------------------------------------------------------------------------------------------------------------------------------------------------------------------------------------------------------------------------------------------------------------------------------------------------------------------------------------------------------------------------------------------------------------------------+\n",
            "|1     |Stuning even for the non-gamer: This sound track was beautiful! It paints the senery in your mind so well I would recomend it even to people who hate vid. game music! I have played the game Chrono Cross but out of all of the games I have ever played it has the best music! It backs away from crude keyboarding and takes a fresher step with grate guitars and soulful orchestras. It would impress anyone who cares to listen! ^_^                                                                                                                                                                                                                                                                                                                                                                                                               |\n",
            "|1     |The best soundtrack ever to anything.: I'm reading a lot of reviews saying that this is the best 'game soundtrack' and I figured that I'd write a review to disagree a bit. This in my opinino is Yasunori Mitsuda's ultimate masterpiece. The music is timeless and I'm been listening to it for years now and its beauty simply refuses to fade.The price tag on this is pretty staggering I must say, but if you are going to buy any cd for this much money, this is the only one that I feel would be worth every penny.                                                                                                                                                                                                                                                                                                                            |\n",
            "|1     |\"Amazing!: This soundtrack is my favorite music of all time, hands down. The intense sadness of \"\"Prisoners of Fate\"\" (which means all the more if you've played the game) and the hope in \"\"A Distant Promise\"\" and \"\"Girl who Stole the Star\"\" have been an important inspiration to me personally throughout my teen years. The higher energy tracks like \"\"Chrono Cross ~ Time's Scar~\"\"                                                                                                                                                                                                                                                                                                                                                                                                                                                             |\n",
            "|1     |Excellent Soundtrack: I truly like this soundtrack and I enjoy video game music. I have played this game and most of the music on here I enjoy and it's truly relaxing and peaceful.On disk one. my favorites are Scars Of Time, Between Life and Death, Forest Of Illusion, Fortress of Ancient Dragons, Lost Fragment, and Drowned Valley.Disk Two: The Draggons, Galdorb - Home, Chronomantique, Prisoners of Fate, Gale, and my girlfriend likes ZelbessDisk Three: The best of the three. Garden Of God, Chronopolis, Fates, Jellyfish sea, Burning Orphange, Dragon's Prayer, Tower Of Stars, Dragon God, and Radical Dreamers - Unstealable Jewel.Overall, this is a excellent soundtrack and should be brought by those that like video game music.Xander Cross                                                                                  |\n",
            "|1     |Remember, Pull Your Jaw Off The Floor After Hearing it: If you've played the game, you know how divine the music is! Every single song tells a story of the game, it's that good! The greatest songs are without a doubt, Chrono Cross: Time's Scar, Magical Dreamers: The Wind, The Stars, and the Sea and Radical Dreamers: Unstolen Jewel. (Translation varies) This music is perfect if you ask me, the best it can be. Yasunori Mitsuda just poured his heart on and wrote it down on paper.                                                                                                                                                                                                                                                                                                                                                        |\n",
            "|1     |an absolute masterpiece: I am quite sure any of you actually taking the time to read this have played the game at least once, and heard at least a few of the tracks here. And whether you were aware of it or not, Mitsuda's music contributed greatly to the mood of every single minute of the whole game.Composed of 3 CDs and quite a few songs (I haven't an exact count), all of which are heart-rendering and impressively remarkable, this soundtrack is one I assure you you will not forget. It has everything for every listener -- from fast-paced and energetic (Dancing the Tokage or Termina Home), to slower and more haunting (Dragon God), to purely beautifully composed (Time's Scar), to even some fantastic vocals (Radical Dreamers).This is one of the best videogame soundtracks out there, and surely Mitsuda's best ever. ^_^|\n",
            "|0     |\"Buyer beware: This is a self-published book, and if you want to know why--read a few paragraphs! Those 5 star reviews must have been written by Ms. Haddon's family and friends--or perhaps, by herself! I can't imagine anyone reading the whole thing--I spent an evening with the book and a friend and we were in hysterics reading bits and pieces of it to one another. It is most definitely bad enough to be entered into some kind of a \"\"worst book\"\" contest. I can't believe Amazon even sells this kind of thing. Maybe I can offer them my 8th grade term paper on \"\"To Kill a Mockingbird\"\"--a book I am quite sure Ms. Haddon never heard of. Anyway                                                                                                                                                                                    |\n",
            "|1     |Glorious story: I loved Whisper of the wicked saints. The story was amazing and I was pleasantly surprised at the changes in the book. I am not normaly someone who is into romance novels, but the world was raving about this book and so I bought it. I loved it !! This is a brilliant story because it is so true. This book was so wonderful that I have told all of my friends to read it. It is not a typical romance, it is so much more. Not reading this book is a crime, becuase you are missing out on a heart warming story.                                                                                                                                                                                                                                                                                                               |\n",
            "|1     |A FIVE STAR BOOK: I just finished reading Whisper of the Wicked saints. I fell in love with the caracters. I expected an average romance read, but instead I found one of my favorite books of all time. Just when I thought I could predict the outcome I was shocked ! The writting was so descriptive that my heart broke when Julia's did and I felt as if I was there with them instead of just a distant reader. If you are a lover of romance novels then this is a must read. Don't let the cover fool you this book is spectacular!                                                                                                                                                                                                                                                                                                             |\n",
            "|1     |Whispers of the Wicked Saints: This was a easy to read book that made me want to keep reading on and on, not easy to put down.It left me wanting to read the follow on, which I hope is coming soon. I used to read a lot but have gotten away from it. This book made me want to read again. Very enjoyable.                                                                                                                                                                                                                                                                                                                                                                                                                                                                                                                                            |\n",
            "|0     |The Worst!: A complete waste of time. Typographical errors, poor grammar, and a totally pathetic plot add up to absolutely nothing. I'm embarrassed for this author and very disappointed I actually paid for this book.                                                                                                                                                                                                                                                                                                                                                                                                                                                                                                                                                                                                                                 |\n",
            "|1     |Great book: This was a great book,I just could not put it down,and could not read it fast enough. Boy what a book the twist and turns in this just keeps you guessing and wanting to know what is going to happen next. This book makes you fall in love and can heat you up,it can also make you so angery. this book can make you go throu several of your emotions. This is a quick read romance. It is something that you will want to end your day off with if you read at night.                                                                                                                                                                                                                                                                                                                                                                   |\n",
            "|1     |Great Read: I thought this book was brilliant, but yet realistic. It showed me that to error is human. I loved the fact that this writer showed the loving side of God and not the revengeful side of him. I loved how it twisted and turned and I could not put it down. I also loved The glass castle.                                                                                                                                                                                                                                                                                                                                                                                                                                                                                                                                                 |\n",
            "|0     |Oh please: I guess you have to be a romance novel lover for this one, and not a very discerning one. All others beware! It is absolute drivel. I figured I was in trouble when a typo is prominently featured on the back cover, but the first page of the book removed all doubt. Wait - maybe I'm missing the point. A quick re-read of the beginning now makes it clear. This has to be an intentional churning of over-heated prose for satiric purposes. Phew, so glad I didn't waste $10.95 after all.                                                                                                                                                                                                                                                                                                                                             |\n",
            "|0     |\"Awful beyond belief!: I feel I have to write to keep others from wasting their money. This book seems to have been written by a 7th grader with poor grammatical skills for her age! As another reviewer points out, there is a misspelling on the cover, and I believe there is at least one per chapter. For example, it was mentioned twice that she had a \"\"lean\"\" on her house. I was so distracted by the poor writing and weak plot                                                                                                                                                                                                                                                                                                                                                                                                              |\n",
            "|0     |Don't try to fool us with fake reviews.: It's glaringly obvious that all of the glowing reviews have been written by the same person, perhaps the author herself. They all have the same misspellings and poor sentence structure that is featured in the book. Who made Veronica Haddon think she is an author?                                                                                                                                                                                                                                                                                                                                                                                                                                                                                                                                         |\n",
            "|1     |\"A romantic zen baseball comedy: When you hear folks say that they don't make 'em like that anymore, they might be talking about \"\"BY THE SEA\"\". This is a very cool story about a young Cuban girl searching for idenity who stumbles into a coastal resort kitchen gig with a zen motorcycle maintenance man                                                                                                                                                                                                                                                                                                                                                                                                                                                                                                                                           |\n",
            "|1     |Fashionable Compression Stockings!: After I had a DVT my doctor required me to wear compression stockings. I wore ugly white TED hose and yucky thick brown stockings. Then I found Jobst UltraSheer. They gave me the compression I needed (15-20,) but looked like regular pantyhose. Even though my blood clot has been gone for 4 years, I still buy these to wear as support stockings because they make my legs feel so nice.**Note, I have problems with the rubberized tops rolling down my thigh. I tried the Jobst adhesive, but I hated having my skin pulled all day. I bought an inexpensive garter belt and it works fine and helps keep the stockings from rolling.                                                                                                                                                                       |\n",
            "|1     |Jobst UltraSheer Thigh High: Excellent product. However, they are very difficult to get on for older people. I feel like I've had a full day workout after getting them on. Also, as the day wears on, they begin to roll down from the top and create a very deep ridge in the skin. I have to wear them, so if those two difficulties could be addressed it would be such a help.                                                                                                                                                                                                                                                                                                                                                                                                                                                                      |\n",
            "|0     |sizes recomended in the size chart are not real: sizes are much smaller than what is recomended in the chart. I tried to put it and sheer it!. I guess you should not buy this item in the internet..it is better to go to the store and check it                                                                                                                                                                                                                                                                                                                                                                                                                                                                                                                                                                                                        |\n",
            "+------+---------------------------------------------------------------------------------------------------------------------------------------------------------------------------------------------------------------------------------------------------------------------------------------------------------------------------------------------------------------------------------------------------------------------------------------------------------------------------------------------------------------------------------------------------------------------------------------------------------------------------------------------------------------------------------------------------------------------------------------------------------------------------------------------------------------------------------------------------------+\n",
            "only showing top 20 rows\n",
            "\n"
          ],
          "name": "stdout"
        }
      ]
    },
    {
      "cell_type": "code",
      "metadata": {
        "colab": {
          "base_uri": "https://localhost:8080/"
        },
        "id": "2da7eBEJ1QCd",
        "outputId": "7e2906da-fd75-41be-cf2f-5c99deb52399"
      },
      "source": [
        "test_df.show(truncate=False)"
      ],
      "execution_count": null,
      "outputs": [
        {
          "output_type": "stream",
          "text": [
            "+------+-------------------------------------------------------------------------------------------------------------------------------------------------------------------------------------------------------------------------------------------------------------------------------------------------------------------------------------------------------------------------------------------------------------------------------------------------------------------------------------------------------------------------------------------------------------------------------------------------------------------------------------------------------------------------------------------------------------------------------------------------------------------------------------------------------------------------------------------------------+\n",
            "|Labels|Sentences                                                                                                                                                                                                                                                                                                                                                                                                                                                                                                                                                                                                                                                                                                                                                                                                                                              |\n",
            "+------+-------------------------------------------------------------------------------------------------------------------------------------------------------------------------------------------------------------------------------------------------------------------------------------------------------------------------------------------------------------------------------------------------------------------------------------------------------------------------------------------------------------------------------------------------------------------------------------------------------------------------------------------------------------------------------------------------------------------------------------------------------------------------------------------------------------------------------------------------------+\n",
            "|1     |\"Great CD: My lovely Pat has one of the GREAT voices of her generation. I have listened to this CD for YEARS and I still LOVE IT. When I'm in a good mood it makes me feel better. A bad mood just evaporates like sugar in the rain. This CD just oozes LIFE. Vocals are jusat STUUNNING and lyrics just kill. One of life's hidden gems. This is a desert isle CD in my book. Why she never made it big is just beyond me. Everytime I play this, no matter black, white, young, old, male, female EVERYBODY says one thing \"\"Who was that singing ?\"\"\"                                                                                                                                                                                                                                                                                              |\n",
            "|1     |One of the best game music soundtracks - for a game I didn't really play: Despite the fact that I have only played a small portion of the game, the music I heard (plus the connection to Chrono Trigger which was great as well) led me to purchase the soundtrack, and it remains one of my favorite albums. There is an incredible mix of fun, epic, and emotional songs. Those sad and beautiful tracks I especially like, as there's not too many of those kinds of songs in my other video game soundtracks. I must admit that one of the songs (Life-A Distant Promise) has brought tears to my eyes on many occasions.My one complaint about this soundtrack is that they use guitar fretting effects in many of the songs, which I find distracting. But even if those weren't included I would still consider the collection worth it.       |\n",
            "|0     |Batteries died within a year ...: I bought this charger in Jul 2003 and it worked OK for a while. The design is nice and convenient. However, after about a year, the batteries would not hold a charge. Might as well just get alkaline disposables, or look elsewhere for a charger that comes with batteries that have better staying power.                                                                                                                                                                                                                                                                                                                                                                                                                                                                                                        |\n",
            "|1     |works fine, but Maha Energy is better: Check out Maha Energy's website. Their Powerex MH-C204F charger works in 100 minutes for rapid charge, with option for slower charge (better for batteries). And they have 2200 mAh batteries.                                                                                                                                                                                                                                                                                                                                                                                                                                                                                                                                                                                                                  |\n",
            "|1     |Great for the non-audiophile: Reviewed quite a bit of the combo players and was hesitant due to unfavorable reviews and size of machines. I am weaning off my VHS collection, but don't want to replace them with DVD's. This unit is well built, easy to setup and resolution and special effects (no progressive scan for HDTV owners) suitable for many people looking for a versatile product.Cons- No universal remote.                                                                                                                                                                                                                                                                                                                                                                                                                           |\n",
            "|0     |DVD Player crapped out after one year: I also began having the incorrect disc problems that I've read about on here. The VCR still works, but hte DVD side is useless. I understand that DVD players sometimes just quit on you, but after not even one year? To me that's a sign on bad quality. I'm giving up JVC after this as well. I'm sticking to Sony or giving another brand a shot.                                                                                                                                                                                                                                                                                                                                                                                                                                                           |\n",
            "|0     |Incorrect Disc: I love the style of this, but after a couple years, the DVD is giving me problems. It doesn't even work anymore and I use my broken PS2 Now. I wouldn't recommend this, I'm just going to upgrade to a recorder now. I wish it would work but I guess i'm giving up on JVC. I really did like this one... before it stopped working. The dvd player gave me problems probably after a year of having it.                                                                                                                                                                                                                                                                                                                                                                                                                               |\n",
            "|0     |DVD menu select problems: I cannot scroll through a DVD menu that is set up vertically. The triangle keys will only select horizontally. So I cannot select anything on most DVD's besides play. No special features, no language select, nothing, just play.                                                                                                                                                                                                                                                                                                                                                                                                                                                                                                                                                                                          |\n",
            "|1     |\"Unique Weird Orientalia from the 1930's: Exotic tales of the Orient from the 1930's. \"\"Dr Shen Fu\"\"                                                                                                                                                                                                                                                                                                                                                                                                                                                                                                                                                                                                                                                                                                                                                   |\n",
            "|0     |\"Not an \"\"ultimate guide\"\": Firstly                                                                                                                                                                                                                                                                                                                                                                                                                                                                                                                                                                                                                                                                                                                                                                                                                    |\n",
            "|1     |Great book for travelling Europe: I currently live in Europe, and this is the book I recommend for my visitors. It covers many countries, colour pictures, and is a nice starter for before you go, and once you are there.                                                                                                                                                                                                                                                                                                                                                                                                                                                                                                                                                                                                                            |\n",
            "|0     |Not!: If you want to listen to El Duke , then it is better if you have access to his shower,this is not him, it is a gimmick,very well orchestrated.                                                                                                                                                                                                                                                                                                                                                                                                                                                                                                                                                                                                                                                                                                   |\n",
            "|0     |\"A complete Bust: This game requires quicktime 5.0 to work...if you have a better version of quicktime (I have 7.5), it will ask you to install the quicktime available on the CD...if you click no, it will not let you play. So, I begrudgingly clicked yes on the third try, and it installed quicktime 5, THEN it tells me to please install the quicktime available on the disc. It KEPT telling me that, even after I uninstalled my version of quicktime 7.5, and reinstalled Barbie Rapunzel and quicktime 5. Very frustrating, and the game absolutely will not work for me. It keeps telling me over and over, to install quicktime 5, tho I've been through the installation process repeatedly. It is NOT my \"\"operating system limitations\"\". This is a brand new computer...merely weeks old with all the state of the art contraptions.\"|\n",
            "|1     |TRULY MADE A DIFFERENCE!: I have been using this product for a couple years now. I started using it because my hair had gotten so dry from all the chemical treatments and relaxers. This actualy came in the relaxer kit. I tried it and could not beleive the difference it made with one use. I could not find it in any of the stores at the time so I searched Amazon and they had it. I absolutely love it. It is the best moisturizing product I have used so far. My hair is soft with good elasticity and it is not breaking anywhere close to what it was. I am very happy with it.                                                                                                                                                                                                                                                          |\n",
            "|0     |didn't run off of USB bus power: Was hoping that this drive would run off of bus power, but it required the adapter to actually work. :( I sent it back.                                                                                                                                                                                                                                                                                                                                                                                                                                                                                                                                                                                                                                                                                               |\n",
            "|0     |Don't buy!: First of all, the company took my money and sent me an email telling me the product was shipped. A week and a half later I received another email telling me that they are sorry, but they don't actually have any of these items, and if I received an email telling me it has shipped, it was a mistake.When I finally got my money back, I went through another company to buy the product and it won't work with my phone, even though it depicts that it will. I have sent numerous emails to the company - I can't actually find a phone number on their website - and I still have not gotten any kind of response. What kind of customer service is that? No one will help me with this problem. My advice - don't waste your money!                                                                                               |\n",
            "|1     |Simple, Durable, Fun game for all ages: This is an AWESOME game! Almost everyone know tic-tac-toe so it is EASY to learn and quick to play. You can't play just once! The twist is that your pieces are slightly different sizes - just big enough to gobble up your opponent. The first person to make tic-tac-toe wins, but it's not as easy as it looks when you're stuck in the mindset of just making three in a row and forget about the gobbling possibilities! My 4 and 5 year olds will beat me even when I'm trying to win! Excellent beginning critical thinking game. Grandparents loved playing it with the kids too.                                                                                                                                                                                                                     |\n",
            "|1     |Review of Kelly Club for Toddlers: For the price of 7.99, this PC game is WELL worth it, great graphics, colorful and lots to do! My four year old daughter is in love with the many tasks to complete in this game, including dressing and grooming wide variety of pets and decoration of numerous floats to show in your little one's very own parade.                                                                                                                                                                                                                                                                                                                                                                                                                                                                                              |\n",
            "|1     |SOY UN APASIONADO DEL BOX: Y ESTE LIBRO ESTÁ ESPLÉNDIDO !Lo disfrutas, lo puedes usar como obra de consultaNos trae LAS HISTORIA DE LOS BOXEADORES MÁS BRILLANTES, DE LOS CAMPEONES DURANTE CIEN AÑOS !!Si te gusta el box...¡NO TE LO PIERDAS !                                                                                                                                                                                                                                                                                                                                                                                                                                                                                                                                                                                                       |\n",
            "|1     |Some of the best fiddle playing I have heard in a long time: This is an excellent album with some great fiddle playing. Ryan is amazing to watch when he plays in person. You can feel the emotion he puts into each song.                                                                                                                                                                                                                                                                                                                                                                                                                                                                                                                                                                                                                             |\n",
            "+------+-------------------------------------------------------------------------------------------------------------------------------------------------------------------------------------------------------------------------------------------------------------------------------------------------------------------------------------------------------------------------------------------------------------------------------------------------------------------------------------------------------------------------------------------------------------------------------------------------------------------------------------------------------------------------------------------------------------------------------------------------------------------------------------------------------------------------------------------------------+\n",
            "only showing top 20 rows\n",
            "\n"
          ],
          "name": "stdout"
        }
      ]
    },
    {
      "cell_type": "code",
      "metadata": {
        "colab": {
          "base_uri": "https://localhost:8080/"
        },
        "id": "KdaYu9fUY5Kv",
        "outputId": "a5323f8c-6c77-4977-dbfe-44dc966f6320"
      },
      "source": [
        "print(\"Length of train dataset =\",train_df.count())\n",
        "print(\"Length of test dataset =\",train_df.count())"
      ],
      "execution_count": null,
      "outputs": [
        {
          "output_type": "stream",
          "text": [
            "Length of train dataset = 98948\n",
            "Length of test dataset = 98948\n"
          ],
          "name": "stdout"
        }
      ]
    },
    {
      "cell_type": "code",
      "metadata": {
        "colab": {
          "base_uri": "https://localhost:8080/"
        },
        "id": "E2H2bCzNZDtR",
        "outputId": "afcd3bca-1ef8-4a16-c7ef-c54716d1a2cc"
      },
      "source": [
        "print(\"Type of the train dataset =\",type(train_df))\n",
        "print(\"Type of the test dataset =\",type(test_df))"
      ],
      "execution_count": null,
      "outputs": [
        {
          "output_type": "stream",
          "text": [
            "Type of the train dataset = <class 'pyspark.sql.dataframe.DataFrame'>\n",
            "Type of the test dataset = <class 'pyspark.sql.dataframe.DataFrame'>\n"
          ],
          "name": "stdout"
        }
      ]
    },
    {
      "cell_type": "markdown",
      "metadata": {
        "id": "0GpWHMKv1azC"
      },
      "source": [
        "## **Data Pre-Processing**"
      ]
    },
    {
      "cell_type": "markdown",
      "metadata": {
        "id": "WEudSTFO1jzu"
      },
      "source": [
        "\n",
        "\n",
        "> **Train Dataset**\n",
        "\n"
      ]
    },
    {
      "cell_type": "code",
      "metadata": {
        "id": "1eT1mj-MdWc9"
      },
      "source": [
        "#Tokenization\n",
        "tok=RegexTokenizer()\n",
        "tokenizer=RegexTokenizer(inputCol=\"Sentences\",outputCol=\"Words\")\n",
        "tok_train=tokenizer.transform(train_df)"
      ],
      "execution_count": null,
      "outputs": []
    },
    {
      "cell_type": "code",
      "metadata": {
        "id": "txfR5VBBdWZl"
      },
      "source": [
        "#Removing stop-words\n",
        "stopwords=StopWordsRemover()\n",
        "stop_words_remover=StopWordsRemover(inputCol=tokenizer.getOutputCol(),outputCol=\"Important_Words\")\n",
        "stop_train=stop_words_remover.transform(tok_train)"
      ],
      "execution_count": null,
      "outputs": []
    },
    {
      "cell_type": "code",
      "metadata": {
        "id": "1EnN1-5PdWXt"
      },
      "source": [
        "#Performing Hashing Term Frequency\n",
        "hTF=HashingTF()\n",
        "hashing_TF=HashingTF(inputCol=stop_words_remover.getOutputCol(),outputCol=\"Features\")\n",
        "hash_train=hashing_TF.transform(stop_train).select('Labels','Important_Words','Features')"
      ],
      "execution_count": null,
      "outputs": []
    },
    {
      "cell_type": "markdown",
      "metadata": {
        "id": "6EOJkKUJ1uYo"
      },
      "source": [
        "\n",
        "\n",
        "> **Test Dataset**\n",
        "\n"
      ]
    },
    {
      "cell_type": "code",
      "metadata": {
        "id": "P6LUi5EVdWS2"
      },
      "source": [
        "#Tokenization\n",
        "tokenizer_test=RegexTokenizer(inputCol=\"Sentences\",outputCol=\"Words\")\n",
        "tok_test=tokenizer_test.transform(test_df)"
      ],
      "execution_count": null,
      "outputs": []
    },
    {
      "cell_type": "code",
      "metadata": {
        "id": "OKcMUjKWdWQh"
      },
      "source": [
        "#Removing stop-words\n",
        "stop_words_r=StopWordsRemover(inputCol=tokenizer_test.getOutputCol(),outputCol=\"Important_Words\")\n",
        "stop_test=stop_words_r.transform(tok_test)"
      ],
      "execution_count": null,
      "outputs": []
    },
    {
      "cell_type": "code",
      "metadata": {
        "id": "bBXc6AEF1-kc"
      },
      "source": [
        "#Performing Hashing Term Frequency\n",
        "hash_test=HashingTF(inputCol=stop_words_r.getOutputCol(),outputCol=\"Features\").transform(stop_test)"
      ],
      "execution_count": null,
      "outputs": []
    },
    {
      "cell_type": "code",
      "metadata": {
        "id": "NP1s-QFndWN2"
      },
      "source": [
        "#Final pre-processed train & test datasets\n",
        "training=hash_train\n",
        "testing=hash_test"
      ],
      "execution_count": null,
      "outputs": []
    },
    {
      "cell_type": "code",
      "metadata": {
        "colab": {
          "base_uri": "https://localhost:8080/"
        },
        "id": "vRf9ohLmZSkN",
        "outputId": "92714e74-3c85-4ed5-a42d-d7746f5b2383"
      },
      "source": [
        "print(\"Type of the final train dataset =\",type(training))\n",
        "print(\"Type of the final test dataset =\",type(testing))"
      ],
      "execution_count": null,
      "outputs": [
        {
          "output_type": "stream",
          "text": [
            "Type of the final train dataset = <class 'pyspark.sql.dataframe.DataFrame'>\n",
            "Type of the final test dataset = <class 'pyspark.sql.dataframe.DataFrame'>\n"
          ],
          "name": "stdout"
        }
      ]
    },
    {
      "cell_type": "markdown",
      "metadata": {
        "id": "CvZowwc92S5u"
      },
      "source": [
        "## **Defining Important Functions**"
      ]
    },
    {
      "cell_type": "code",
      "metadata": {
        "id": "A-UZv2WPdWHP"
      },
      "source": [
        "#Funtion to convert a Sparse and Dense vector to MLLIB format\n",
        "def as_mllib(v):\n",
        "    if isinstance(v, ml_linalg.SparseVector):\n",
        "        return MLLibVectors.sparse(v.size, v.indices, v.values)\n",
        "    elif isinstance(v, ml_linalg.DenseVector):\n",
        "        return MLLibVectors.dense(v.toArray())\n",
        "    else:\n",
        "        raise TypeError(\"Unsupported type: {0}\".format(type(v)))"
      ],
      "execution_count": null,
      "outputs": []
    },
    {
      "cell_type": "markdown",
      "metadata": {
        "id": "3d2JK7iF3KBw"
      },
      "source": [
        "## **Evaluating and Saving the model**"
      ]
    },
    {
      "cell_type": "code",
      "metadata": {
        "id": "FQrzVpQfdoKs"
      },
      "source": [
        "#Converting the train dataset to LabeledPoint and training it\n",
        "train_list  = training.rdd.map(lambda x: LabeledPoint(x[\"Labels\"],as_mllib(x[\"Features\"]))).collect()\n",
        "SVM_model=SVMWithSGD.train(sc.parallelize(train_list))"
      ],
      "execution_count": null,
      "outputs": []
    },
    {
      "cell_type": "code",
      "metadata": {
        "colab": {
          "base_uri": "https://localhost:8080/"
        },
        "id": "jTDfBPs9aR3P",
        "outputId": "fd82e941-bd75-4142-981e-f83a52006486"
      },
      "source": [
        "print(type(train_list))"
      ],
      "execution_count": null,
      "outputs": [
        {
          "output_type": "stream",
          "text": [
            "<class 'list'>\n"
          ],
          "name": "stdout"
        }
      ]
    },
    {
      "cell_type": "code",
      "metadata": {
        "colab": {
          "base_uri": "https://localhost:8080/"
        },
        "id": "NrWiePG2doHZ",
        "outputId": "fb486e2d-cc30-4517-829f-1a0a1968ba3b"
      },
      "source": [
        "#Converting the test dataset to LabeledPoint and performing parallel computation\n",
        "test_list=testing.rdd.map(lambda x: LabeledPoint(x[\"Labels\"],as_mllib(x[\"Features\"]))).collect()\n",
        "\n",
        "test_parallelize=sc.parallelize(test_list)\n",
        "test=spark.createDataFrame(test_parallelize)\n",
        "test.show(truncate=True)"
      ],
      "execution_count": null,
      "outputs": [
        {
          "output_type": "stream",
          "text": [
            "+--------------------+-----+\n",
            "|            features|label|\n",
            "+--------------------+-----+\n",
            "|(262144,[3370,218...|  1.0|\n",
            "|(262144,[3421,694...|  1.0|\n",
            "|(262144,[1578,576...|  0.0|\n",
            "|(262144,[3190,720...|  1.0|\n",
            "|(262144,[20575,28...|  1.0|\n",
            "|(262144,[2325,553...|  0.0|\n",
            "|(262144,[11941,19...|  0.0|\n",
            "|(262144,[5000,101...|  0.0|\n",
            "|(262144,[17792,40...|  1.0|\n",
            "|(262144,[80702,13...|  0.0|\n",
            "|(262144,[1817,219...|  1.0|\n",
            "|(262144,[4500,414...|  0.0|\n",
            "|(262144,[8169,161...|  0.0|\n",
            "|(262144,[3228,383...|  1.0|\n",
            "|(262144,[40921,50...|  0.0|\n",
            "|(262144,[3445,612...|  0.0|\n",
            "|(262144,[23087,26...|  1.0|\n",
            "|(262144,[20263,46...|  1.0|\n",
            "|(262144,[31135,32...|  1.0|\n",
            "|(262144,[60844,61...|  1.0|\n",
            "+--------------------+-----+\n",
            "only showing top 20 rows\n",
            "\n"
          ],
          "name": "stdout"
        }
      ]
    },
    {
      "cell_type": "code",
      "metadata": {
        "colab": {
          "base_uri": "https://localhost:8080/"
        },
        "id": "HPkLGsvQZ-sZ",
        "outputId": "4c3e9c1b-fabc-4eea-8d9c-6833ed0bd584"
      },
      "source": [
        "print(type(test_list))\n",
        "print(type(test))"
      ],
      "execution_count": null,
      "outputs": [
        {
          "output_type": "stream",
          "text": [
            "<class 'list'>\n",
            "<class 'pyspark.sql.dataframe.DataFrame'>\n"
          ],
          "name": "stdout"
        }
      ]
    },
    {
      "cell_type": "code",
      "metadata": {
        "colab": {
          "base_uri": "https://localhost:8080/"
        },
        "id": "W2Ec7BJidoFd",
        "outputId": "ada30597-351c-46f1-fd9b-233891d78364"
      },
      "source": [
        "#Predicting values on the test dataset and performing parallel computation\n",
        "SVM_prediction_and_labels = test.rdd.map(lambda p:(p.label,SVM_model.predict(p.features))).collect()\n",
        "\n",
        "SVM_Pal_Parallelize=sc.parallelize(SVM_prediction_and_labels)\n",
        "c=[\"Labels\",\"Prediction\"]\n",
        "pal=spark.createDataFrame(SVM_Pal_Parallelize,c)\n",
        "pal.show()"
      ],
      "execution_count": null,
      "outputs": [
        {
          "output_type": "stream",
          "text": [
            "+------+----------+\n",
            "|Labels|Prediction|\n",
            "+------+----------+\n",
            "|   1.0|         1|\n",
            "|   1.0|         1|\n",
            "|   0.0|         0|\n",
            "|   1.0|         1|\n",
            "|   1.0|         1|\n",
            "|   0.0|         0|\n",
            "|   0.0|         0|\n",
            "|   0.0|         0|\n",
            "|   1.0|         1|\n",
            "|   0.0|         0|\n",
            "|   1.0|         1|\n",
            "|   0.0|         1|\n",
            "|   0.0|         0|\n",
            "|   1.0|         1|\n",
            "|   0.0|         0|\n",
            "|   0.0|         0|\n",
            "|   1.0|         1|\n",
            "|   1.0|         1|\n",
            "|   1.0|         1|\n",
            "|   1.0|         1|\n",
            "+------+----------+\n",
            "only showing top 20 rows\n",
            "\n"
          ],
          "name": "stdout"
        }
      ]
    },
    {
      "cell_type": "code",
      "metadata": {
        "colab": {
          "base_uri": "https://localhost:8080/"
        },
        "id": "JBg91lcRaEPw",
        "outputId": "bb0288df-5a91-423c-ef97-778baa2a26c9"
      },
      "source": [
        "print(type(SVM_prediction_and_labels))\n",
        "print(pal)"
      ],
      "execution_count": null,
      "outputs": [
        {
          "output_type": "stream",
          "text": [
            "<class 'list'>\n",
            "DataFrame[Labels: double, Prediction: bigint]\n"
          ],
          "name": "stdout"
        }
      ]
    },
    {
      "cell_type": "markdown",
      "metadata": {
        "id": "Jhj-k00a5xWy"
      },
      "source": [
        "**In the two cells above, we first compute the needful and then convert it to a Spark Dataframe. We do this because, once we apply map, the dataset gets converted to a list and no operations can be performed on a list.**"
      ]
    },
    {
      "cell_type": "code",
      "metadata": {
        "colab": {
          "base_uri": "https://localhost:8080/"
        },
        "id": "DVA1Hj7SdoBS",
        "outputId": "5e1a6dec-a362-429c-89a6-7f21779789e4"
      },
      "source": [
        "#Computing the accuracy of the model\n",
        "SVM_correct = pal.rdd.filter(lambda p: p['Labels'] == p['Prediction'])\n",
        "SVM_accuracy = (SVM_correct.count() / float(testing.count()))*100\n",
        "print(\"The accuracy of SVM is =\",round(SVM_accuracy,2),\"%\")"
      ],
      "execution_count": null,
      "outputs": [
        {
          "output_type": "stream",
          "text": [
            "The accuracy of SVM is = 78.15 %\n"
          ],
          "name": "stdout"
        }
      ]
    },
    {
      "cell_type": "markdown",
      "metadata": {
        "id": "IrtpTipK7PGy"
      },
      "source": [
        "\n",
        "\n",
        "> Before running the next cell - **Mount Google Drive**. To do so, open the Files section in the left hand side of this interface and click on the third icon. \n",
        "\n",
        "***Third icon in the picture given below***\n",
        "\n",
        "![image.png](data:image/png;base64,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)"
      ]
    },
    {
      "cell_type": "code",
      "metadata": {
        "id": "HfBzmsiP9Vo9"
      },
      "source": [
        "#Saving all the vectorizers and the model\n",
        "tok.save(\"tokenizer\")\n",
        "stopwords.save(\"stop_words\")\n",
        "hTF.save(\"vec\")\n",
        "SVM_model.save(sc,'svm_model')"
      ],
      "execution_count": null,
      "outputs": []
    },
    {
      "cell_type": "code",
      "metadata": {
        "id": "hyZLta0CdACd"
      },
      "source": [
        "#hello"
      ],
      "execution_count": null,
      "outputs": []
    },
    {
      "cell_type": "markdown",
      "metadata": {
        "id": "hf4n6h1S5Wk-"
      },
      "source": [
        "##**Thank You!**"
      ]
    }
  ]
}